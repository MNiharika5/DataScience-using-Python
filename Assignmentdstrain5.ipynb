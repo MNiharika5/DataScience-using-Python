{
 "cells": [
  {
   "cell_type": "code",
   "execution_count": 1,
   "id": "989a0903",
   "metadata": {},
   "outputs": [],
   "source": [
    "import numpy as np"
   ]
  },
  {
   "cell_type": "code",
   "execution_count": 2,
   "id": "f8c87dd3",
   "metadata": {},
   "outputs": [],
   "source": [
    "import pandas as pd"
   ]
  },
  {
   "cell_type": "code",
   "execution_count": 3,
   "id": "e5465b32",
   "metadata": {},
   "outputs": [],
   "source": [
    "dict1={\"playername\":['p1','p2','p3','p4','p5','p6','p7','p8','p9','p10','p11','p12','p13','p14','p15','p16','p17','p18','p19','p20'],\n",
    "       \"noofruns\":[1200,120,1300,100,1400,40,1500,10,2010,95,3000,48,4000,25,5000,35,6000,10,1800,190],\n",
    "       \"noofwickets\":[1,110,2,120,3,123,4,123,5,345,6,345,7,456,8,567,9,897,10,564],\n",
    "       \"category\":['batsman','bowler','batsman','bowler','batsman','bowler','batsman','bowler','batsman','bowler','batsman','bowler','batsman','bowler','batsman','bowler','batsman','bowler','batsman','bowler']}"
   ]
  },
  {
   "cell_type": "code",
   "execution_count": 4,
   "id": "7eaa2cbb",
   "metadata": {},
   "outputs": [
    {
     "data": {
      "text/html": [
       "<div>\n",
       "<style scoped>\n",
       "    .dataframe tbody tr th:only-of-type {\n",
       "        vertical-align: middle;\n",
       "    }\n",
       "\n",
       "    .dataframe tbody tr th {\n",
       "        vertical-align: top;\n",
       "    }\n",
       "\n",
       "    .dataframe thead th {\n",
       "        text-align: right;\n",
       "    }\n",
       "</style>\n",
       "<table border=\"1\" class=\"dataframe\">\n",
       "  <thead>\n",
       "    <tr style=\"text-align: right;\">\n",
       "      <th></th>\n",
       "      <th>playername</th>\n",
       "      <th>noofruns</th>\n",
       "      <th>noofwickets</th>\n",
       "      <th>category</th>\n",
       "    </tr>\n",
       "  </thead>\n",
       "  <tbody>\n",
       "    <tr>\n",
       "      <th>0</th>\n",
       "      <td>p1</td>\n",
       "      <td>1200</td>\n",
       "      <td>1</td>\n",
       "      <td>batsman</td>\n",
       "    </tr>\n",
       "    <tr>\n",
       "      <th>1</th>\n",
       "      <td>p2</td>\n",
       "      <td>120</td>\n",
       "      <td>110</td>\n",
       "      <td>bowler</td>\n",
       "    </tr>\n",
       "    <tr>\n",
       "      <th>2</th>\n",
       "      <td>p3</td>\n",
       "      <td>1300</td>\n",
       "      <td>2</td>\n",
       "      <td>batsman</td>\n",
       "    </tr>\n",
       "    <tr>\n",
       "      <th>3</th>\n",
       "      <td>p4</td>\n",
       "      <td>100</td>\n",
       "      <td>120</td>\n",
       "      <td>bowler</td>\n",
       "    </tr>\n",
       "    <tr>\n",
       "      <th>4</th>\n",
       "      <td>p5</td>\n",
       "      <td>1400</td>\n",
       "      <td>3</td>\n",
       "      <td>batsman</td>\n",
       "    </tr>\n",
       "    <tr>\n",
       "      <th>5</th>\n",
       "      <td>p6</td>\n",
       "      <td>40</td>\n",
       "      <td>123</td>\n",
       "      <td>bowler</td>\n",
       "    </tr>\n",
       "    <tr>\n",
       "      <th>6</th>\n",
       "      <td>p7</td>\n",
       "      <td>1500</td>\n",
       "      <td>4</td>\n",
       "      <td>batsman</td>\n",
       "    </tr>\n",
       "    <tr>\n",
       "      <th>7</th>\n",
       "      <td>p8</td>\n",
       "      <td>10</td>\n",
       "      <td>123</td>\n",
       "      <td>bowler</td>\n",
       "    </tr>\n",
       "    <tr>\n",
       "      <th>8</th>\n",
       "      <td>p9</td>\n",
       "      <td>2010</td>\n",
       "      <td>5</td>\n",
       "      <td>batsman</td>\n",
       "    </tr>\n",
       "    <tr>\n",
       "      <th>9</th>\n",
       "      <td>p10</td>\n",
       "      <td>95</td>\n",
       "      <td>345</td>\n",
       "      <td>bowler</td>\n",
       "    </tr>\n",
       "    <tr>\n",
       "      <th>10</th>\n",
       "      <td>p11</td>\n",
       "      <td>3000</td>\n",
       "      <td>6</td>\n",
       "      <td>batsman</td>\n",
       "    </tr>\n",
       "    <tr>\n",
       "      <th>11</th>\n",
       "      <td>p12</td>\n",
       "      <td>48</td>\n",
       "      <td>345</td>\n",
       "      <td>bowler</td>\n",
       "    </tr>\n",
       "    <tr>\n",
       "      <th>12</th>\n",
       "      <td>p13</td>\n",
       "      <td>4000</td>\n",
       "      <td>7</td>\n",
       "      <td>batsman</td>\n",
       "    </tr>\n",
       "    <tr>\n",
       "      <th>13</th>\n",
       "      <td>p14</td>\n",
       "      <td>25</td>\n",
       "      <td>456</td>\n",
       "      <td>bowler</td>\n",
       "    </tr>\n",
       "    <tr>\n",
       "      <th>14</th>\n",
       "      <td>p15</td>\n",
       "      <td>5000</td>\n",
       "      <td>8</td>\n",
       "      <td>batsman</td>\n",
       "    </tr>\n",
       "    <tr>\n",
       "      <th>15</th>\n",
       "      <td>p16</td>\n",
       "      <td>35</td>\n",
       "      <td>567</td>\n",
       "      <td>bowler</td>\n",
       "    </tr>\n",
       "    <tr>\n",
       "      <th>16</th>\n",
       "      <td>p17</td>\n",
       "      <td>6000</td>\n",
       "      <td>9</td>\n",
       "      <td>batsman</td>\n",
       "    </tr>\n",
       "    <tr>\n",
       "      <th>17</th>\n",
       "      <td>p18</td>\n",
       "      <td>10</td>\n",
       "      <td>897</td>\n",
       "      <td>bowler</td>\n",
       "    </tr>\n",
       "    <tr>\n",
       "      <th>18</th>\n",
       "      <td>p19</td>\n",
       "      <td>1800</td>\n",
       "      <td>10</td>\n",
       "      <td>batsman</td>\n",
       "    </tr>\n",
       "    <tr>\n",
       "      <th>19</th>\n",
       "      <td>p20</td>\n",
       "      <td>190</td>\n",
       "      <td>564</td>\n",
       "      <td>bowler</td>\n",
       "    </tr>\n",
       "  </tbody>\n",
       "</table>\n",
       "</div>"
      ],
      "text/plain": [
       "   playername  noofruns  noofwickets category\n",
       "0          p1      1200            1  batsman\n",
       "1          p2       120          110   bowler\n",
       "2          p3      1300            2  batsman\n",
       "3          p4       100          120   bowler\n",
       "4          p5      1400            3  batsman\n",
       "5          p6        40          123   bowler\n",
       "6          p7      1500            4  batsman\n",
       "7          p8        10          123   bowler\n",
       "8          p9      2010            5  batsman\n",
       "9         p10        95          345   bowler\n",
       "10        p11      3000            6  batsman\n",
       "11        p12        48          345   bowler\n",
       "12        p13      4000            7  batsman\n",
       "13        p14        25          456   bowler\n",
       "14        p15      5000            8  batsman\n",
       "15        p16        35          567   bowler\n",
       "16        p17      6000            9  batsman\n",
       "17        p18        10          897   bowler\n",
       "18        p19      1800           10  batsman\n",
       "19        p20       190          564   bowler"
      ]
     },
     "execution_count": 4,
     "metadata": {},
     "output_type": "execute_result"
    }
   ],
   "source": [
    "d=pd.DataFrame(dict1)\n",
    "d"
   ]
  },
  {
   "cell_type": "code",
   "execution_count": 5,
   "id": "0587b856",
   "metadata": {},
   "outputs": [],
   "source": [
    "tfile=open('cricket1.txt','a')"
   ]
  },
  {
   "cell_type": "code",
   "execution_count": 7,
   "id": "998d6710",
   "metadata": {},
   "outputs": [],
   "source": [
    "tfile.write(d.to_string())\n",
    "tfile.close()"
   ]
  },
  {
   "cell_type": "code",
   "execution_count": 8,
   "id": "bd82b7e2",
   "metadata": {},
   "outputs": [],
   "source": [
    "import matplotlib.pyplot as plt"
   ]
  },
  {
   "cell_type": "code",
   "execution_count": 10,
   "id": "a4fa6c86",
   "metadata": {},
   "outputs": [
    {
     "data": {
      "text/plain": [
       "<matplotlib.collections.PathCollection at 0x21534f12370>"
      ]
     },
     "execution_count": 10,
     "metadata": {},
     "output_type": "execute_result"
    },
    {
     "data": {
      "image/png": "[encoded data removed]",
      "text/plain": [
       "<Figure size 432x288 with 1 Axes>"
      ]
     },
     "metadata": {
      "needs_background": "light"
     },
     "output_type": "display_data"
    }
   ],
   "source": [
    "x=d['playername']\n",
    "y=d['noofruns']\n",
    "plt.scatter(x,y)"
   ]
  },
  {
   "cell_type": "code",
   "execution_count": 12,
   "id": "26a6c814",
   "metadata": {},
   "outputs": [
    {
     "data": {
      "text/plain": [
       "<matplotlib.collections.PathCollection at 0x21535ff5580>"
      ]
     },
     "execution_count": 12,
     "metadata": {},
     "output_type": "execute_result"
    },
    {
     "data": {
      "image/png": "[encoded data removed]",
      "text/plain": [
       "<Figure size 432x288 with 1 Axes>"
      ]
     },
     "metadata": {
      "needs_background": "light"
     },
     "output_type": "display_data"
    }
   ],
   "source": [
    "x=d['playername']\n",
    "y=d['noofwickets']\n",
    "plt.scatter(x,y)"
   ]
  },
  {
   "cell_type": "code",
   "execution_count": 13,
   "id": "5cd62d96",
   "metadata": {},
   "outputs": [],
   "source": [
    "import numpy as np\n",
    "import matplotlib.pyplot as plt"
   ]
  },
  {
   "cell_type": "code",
   "execution_count": 14,
   "id": "ab90d764",
   "metadata": {},
   "outputs": [],
   "source": [
    "x=np.array(['Batsmen','Bowler'])"
   ]
  },
  {
   "cell_type": "code",
   "execution_count": 15,
   "id": "28ac35fe",
   "metadata": {},
   "outputs": [],
   "source": [
    "y=d['category'].value_counts()"
   ]
  },
  {
   "cell_type": "code",
   "execution_count": 16,
   "id": "57242468",
   "metadata": {},
   "outputs": [
    {
     "data": {
      "text/plain": [
       "<BarContainer object of 2 artists>"
      ]
     },
     "execution_count": 16,
     "metadata": {},
     "output_type": "execute_result"
    },
    {
     "data": {
      "image/png": "[encoded data removed]",
      "text/plain": [
       "<Figure size 432x288 with 1 Axes>"
      ]
     },
     "metadata": {
      "needs_background": "light"
     },
     "output_type": "display_data"
    }
   ],
   "source": [
    "plt.bar(x,y,color=\"blue\")"
   ]
  },
  {
   "cell_type": "code",
   "execution_count": null,
   "id": "fbf3367d",
   "metadata": {},
   "outputs": [],
   "source": []
  }
 ],
 "metadata": {
  "kernelspec": {
   "display_name": "Python 3 (ipykernel)",
   "language": "python",
   "name": "python3"
  },
  "language_info": {
   "codemirror_mode": {
    "name": "ipython",
    "version": 3
   },
   "file_extension": ".py",
   "mimetype": "text/x-python",
   "name": "python",
   "nbconvert_exporter": "python",
   "pygments_lexer": "ipython3",
   "version": "3.9.12"
  }
 },
 "nbformat": 4,
 "nbformat_minor": 5
}
